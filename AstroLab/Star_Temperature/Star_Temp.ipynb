{
 "cells": [
  {
   "cell_type": "markdown",
   "id": "03d5dd02-ca84-40c4-bffb-6dd233f72530",
   "metadata": {},
   "source": [
    "# Calculation Code:"
   ]
  },
  {
   "cell_type": "markdown",
   "id": "6ea3bb81-ee15-4cb6-a5b6-420b7104fffb",
   "metadata": {},
   "source": [
    "### Analysis of `To estimate the temperature of stars by photometry` experiment\n",
    "Exp Date : 27th Mar, 23"
   ]
  },
  {
   "cell_type": "code",
   "execution_count": null,
   "id": "e1ba85a1-0181-4912-91f0-2133e1ad72aa",
   "metadata": {},
   "outputs": [],
   "source": [
    "import numpy as np\n",
    "import matplotlib.pyplot as plt\n",
    "import pandas as pd"
   ]
  },
  {
   "cell_type": "code",
   "execution_count": null,
   "id": "b7b6d523-90d1-44cd-9626-5c8124dba195",
   "metadata": {},
   "outputs": [
    {
     "data": {
      "text/html": [
       "<div>\n",
       "<style scoped>\n",
       "    .dataframe tbody tr th:only-of-type {\n",
       "        vertical-align: middle;\n",
       "    }\n",
       "\n",
       "    .dataframe tbody tr th {\n",
       "        vertical-align: top;\n",
       "    }\n",
       "\n",
       "    .dataframe thead th {\n",
       "        text-align: right;\n",
       "    }\n",
       "</style>\n",
       "<table border=\"1\" class=\"dataframe\">\n",
       "  <thead>\n",
       "    <tr style=\"text-align: right;\">\n",
       "      <th></th>\n",
       "      <th>Unnamed: 0</th>\n",
       "      <th>Star</th>\n",
       "      <th>Time(IST)</th>\n",
       "      <th>B_flux</th>\n",
       "      <th>B_error</th>\n",
       "      <th>V_flux</th>\n",
       "      <th>V_error</th>\n",
       "      <th>B_background</th>\n",
       "      <th>V_background</th>\n",
       "      <th>B_net</th>\n",
       "      <th>V_net</th>\n",
       "    </tr>\n",
       "  </thead>\n",
       "  <tbody>\n",
       "    <tr>\n",
       "      <th>0</th>\n",
       "      <td>0</td>\n",
       "      <td>Regulus</td>\n",
       "      <td>22:25:00</td>\n",
       "      <td>273</td>\n",
       "      <td>3</td>\n",
       "      <td>298</td>\n",
       "      <td>4</td>\n",
       "      <td>7</td>\n",
       "      <td>4</td>\n",
       "      <td>266</td>\n",
       "      <td>294</td>\n",
       "    </tr>\n",
       "    <tr>\n",
       "      <th>1</th>\n",
       "      <td>1</td>\n",
       "      <td>Denebola</td>\n",
       "      <td>22:43:00</td>\n",
       "      <td>110</td>\n",
       "      <td>2</td>\n",
       "      <td>144</td>\n",
       "      <td>3</td>\n",
       "      <td>4</td>\n",
       "      <td>3</td>\n",
       "      <td>106</td>\n",
       "      <td>141</td>\n",
       "    </tr>\n",
       "    <tr>\n",
       "      <th>2</th>\n",
       "      <td>2</td>\n",
       "      <td>Algaiba</td>\n",
       "      <td>22:45:00</td>\n",
       "      <td>54</td>\n",
       "      <td>1</td>\n",
       "      <td>156</td>\n",
       "      <td>2</td>\n",
       "      <td>1</td>\n",
       "      <td>2</td>\n",
       "      <td>53</td>\n",
       "      <td>154</td>\n",
       "    </tr>\n",
       "    <tr>\n",
       "      <th>3</th>\n",
       "      <td>3</td>\n",
       "      <td>Zosma</td>\n",
       "      <td>22:51:00</td>\n",
       "      <td>74</td>\n",
       "      <td>1</td>\n",
       "      <td>98</td>\n",
       "      <td>2</td>\n",
       "      <td>2</td>\n",
       "      <td>2</td>\n",
       "      <td>72</td>\n",
       "      <td>96</td>\n",
       "    </tr>\n",
       "    <tr>\n",
       "      <th>4</th>\n",
       "      <td>4</td>\n",
       "      <td>Dubhe</td>\n",
       "      <td>23:03:00</td>\n",
       "      <td>58</td>\n",
       "      <td>1</td>\n",
       "      <td>167</td>\n",
       "      <td>2</td>\n",
       "      <td>1</td>\n",
       "      <td>2</td>\n",
       "      <td>57</td>\n",
       "      <td>165</td>\n",
       "    </tr>\n",
       "    <tr>\n",
       "      <th>5</th>\n",
       "      <td>5</td>\n",
       "      <td>Phad</td>\n",
       "      <td>23:50:00</td>\n",
       "      <td>76</td>\n",
       "      <td>2</td>\n",
       "      <td>95</td>\n",
       "      <td>3</td>\n",
       "      <td>1</td>\n",
       "      <td>2</td>\n",
       "      <td>75</td>\n",
       "      <td>93</td>\n",
       "    </tr>\n",
       "    <tr>\n",
       "      <th>6</th>\n",
       "      <td>6</td>\n",
       "      <td>Arcturus</td>\n",
       "      <td>01:03:00</td>\n",
       "      <td>273</td>\n",
       "      <td>3</td>\n",
       "      <td>920</td>\n",
       "      <td>15</td>\n",
       "      <td>2</td>\n",
       "      <td>4</td>\n",
       "      <td>271</td>\n",
       "      <td>916</td>\n",
       "    </tr>\n",
       "    <tr>\n",
       "      <th>7</th>\n",
       "      <td>7</td>\n",
       "      <td>spica</td>\n",
       "      <td>02:19:00</td>\n",
       "      <td>120</td>\n",
       "      <td>3</td>\n",
       "      <td>134</td>\n",
       "      <td>3</td>\n",
       "      <td>2</td>\n",
       "      <td>2</td>\n",
       "      <td>118</td>\n",
       "      <td>132</td>\n",
       "    </tr>\n",
       "    <tr>\n",
       "      <th>8</th>\n",
       "      <td>8</td>\n",
       "      <td>Muphrid</td>\n",
       "      <td>02:28:00</td>\n",
       "      <td>13</td>\n",
       "      <td>0</td>\n",
       "      <td>25</td>\n",
       "      <td>0</td>\n",
       "      <td>1</td>\n",
       "      <td>2</td>\n",
       "      <td>12</td>\n",
       "      <td>23</td>\n",
       "    </tr>\n",
       "    <tr>\n",
       "      <th>9</th>\n",
       "      <td>9</td>\n",
       "      <td>Alkaid</td>\n",
       "      <td>02:32:00</td>\n",
       "      <td>38</td>\n",
       "      <td>1</td>\n",
       "      <td>47</td>\n",
       "      <td>1</td>\n",
       "      <td>1</td>\n",
       "      <td>2</td>\n",
       "      <td>37</td>\n",
       "      <td>45</td>\n",
       "    </tr>\n",
       "  </tbody>\n",
       "</table>\n",
       "</div>"
      ],
      "text/plain": [
       "   Unnamed: 0      Star Time(IST)  B_flux  B_error  V_flux  V_error  \\\n",
       "0           0   Regulus  22:25:00     273        3     298        4   \n",
       "1           1  Denebola  22:43:00     110        2     144        3   \n",
       "2           2  Algaiba   22:45:00      54        1     156        2   \n",
       "3           3     Zosma  22:51:00      74        1      98        2   \n",
       "4           4     Dubhe  23:03:00      58        1     167        2   \n",
       "5           5      Phad  23:50:00      76        2      95        3   \n",
       "6           6  Arcturus  01:03:00     273        3     920       15   \n",
       "7           7     spica  02:19:00     120        3     134        3   \n",
       "8           8   Muphrid  02:28:00      13        0      25        0   \n",
       "9           9    Alkaid  02:32:00      38        1      47        1   \n",
       "\n",
       "   B_background  V_background  B_net  V_net  \n",
       "0             7             4    266    294  \n",
       "1             4             3    106    141  \n",
       "2             1             2     53    154  \n",
       "3             2             2     72     96  \n",
       "4             1             2     57    165  \n",
       "5             1             2     75     93  \n",
       "6             2             4    271    916  \n",
       "7             2             2    118    132  \n",
       "8             1             2     12     23  \n",
       "9             1             2     37     45  "
      ]
     },
     "execution_count": 2,
     "metadata": {},
     "output_type": "execute_result"
    }
   ],
   "source": [
    "# Reading Data File\n",
    "df_new = pd.read_excel(r'/home/mandal-anik/Desktop/Sem-4/Astrolab/Star.xlsx')\n",
    "df_new"
   ]
  },
  {
   "cell_type": "markdown",
   "id": "d0fdf6dc-c4aa-4973-ac83-f4a4a1182550",
   "metadata": {},
   "source": [
    "\n",
    "$$\n",
    "B-V = -2.5 log(\\frac{B_{net}}{V_{net}})\n",
    "$$"
   ]
  },
  {
   "cell_type": "code",
   "execution_count": null,
   "id": "6f093df6-8148-4e8c-b51d-2651dbf31981",
   "metadata": {},
   "outputs": [],
   "source": [
    "def Color_Index(data):\n",
    "    ci = np.array(-2.5 * np.log10((data[\"B_net\"])/(data[\"V_net\"])))\n",
    "    ci_high = np.array(-2.5 * np.log10((data[\"B_net\"]-data[\"B_error\"])/(data[\"V_net\"]+data[\"V_error\"])))\n",
    "    ci_low = np.array(-2.5 * np.log10((data[\"B_net\"]+data[\"B_error\"])/(data[\"V_net\"]-data[\"V_error\"])))\n",
    "    return [ci, ci_high, ci_low]"
   ]
  },
  {
   "cell_type": "code",
   "execution_count": null,
   "id": "7cee7b14-8774-425b-be7f-67a0e75fcf8f",
   "metadata": {},
   "outputs": [],
   "source": [
    "ci, ci_high, ci_low = Color_Index(df_new)\n",
    "ci_highError = ci_high - ci\n",
    "ci_lowError = ci_low - ci"
   ]
  },
  {
   "cell_type": "code",
   "execution_count": null,
   "id": "afe7d78d-4330-43ad-886e-66bba81ecc9d",
   "metadata": {},
   "outputs": [
    {
     "name": "stdout",
     "output_type": "stream",
     "text": [
      "IST 22:25:00 Color index of Regulus\t\t 0.11 [-0.027, 0.027]\n",
      "IST 22:43:00 Color index of Denebola\t\t 0.31 [-0.0436, 0.0435]\n",
      "IST 22:45:00 Color index of Algaiba \t\t 1.16 [-0.0345, 0.0347]\n",
      "IST 22:51:00 Color index of Zosma\t\t 0.31 [-0.0378, 0.0376]\n",
      "IST 23:03:00 Color index of Dubhe\t\t 1.15 [-0.0321, 0.0323]\n",
      "IST 23:50:00 Color index of Phad\t\t 0.23 [-0.0642, 0.0638]\n",
      "IST 01:03:00 Color index of Arcturus\t\t 1.32 [-0.0299, 0.0297]\n",
      "IST 02:19:00 Color index of spica\t\t 0.12 [-0.0522, 0.0524]\n",
      "IST 02:28:00 Color index of Muphrid\t\t 0.71 [0.0, 0.0]\n",
      "IST 02:32:00 Color index of Alkaid\t\t 0.21 [-0.0534, 0.0536]\n"
     ]
    }
   ],
   "source": [
    "for i in range(len(df_new['Star'])):\n",
    "    ist = \"IST {}\".format(df_new['Time(IST)'][i])\n",
    "    a = \"Color index of {:}\\t\\t\".format(df_new['Star'][i])\n",
    "    err = [float('{:.4f}'.format(ci_lowError[i])), float('{:.4f}'.format(ci_highError[i]))]\n",
    "    print(ist, a, '{:.2f}'.format(ci[i]), err)"
   ]
  },
  {
   "cell_type": "markdown",
   "id": "a1998ae6-3adb-4435-9712-fddd803c9fad",
   "metadata": {},
   "source": [
    "Color Index-Temperature relation mantioned in the slides,\n",
    "\n",
    "$$\n",
    "T \\approx 7000(\\frac{1}{(B-V) + 0.56})\\ K\n",
    "$$"
   ]
  },
  {
   "cell_type": "code",
   "execution_count": null,
   "id": "f94135ff-cb4f-488e-a036-8302a0e43893",
   "metadata": {},
   "outputs": [],
   "source": [
    "def ColIdx_to_temp(col_idx):\n",
    "    # t = 4600*(1/(0.92*col_idx + 1.7) + 1/(0.92*col_idx + 0.62))    # Another relation that we can use\n",
    "    t = 7000 * (1/(col_idx + 0.56))\n",
    "    return t"
   ]
  },
  {
   "cell_type": "code",
   "execution_count": 10,
   "id": "9bf69c37-4af2-43ea-bd18-63ff4c96b79a",
   "metadata": {},
   "outputs": [
    {
     "data": {
      "image/png": "[encoded data removed]",
      "text/plain": [
       "<Figure size 1600x900 with 1 Axes>"
      ]
     },
     "metadata": {},
     "output_type": "display_data"
    }
   ],
   "source": [
    "fig = plt.figure(figsize=(16,9))\n",
    "ax = fig.add_subplot(111)\n",
    "\n",
    "ci_i = np.linspace(-0.10, 1.5, 1000)\n",
    "T_i = ColIdx_to_temp(ci_i)\n",
    "    \n",
    "\n",
    "T = ColIdx_to_temp(ci)\n",
    "T_low = T - ColIdx_to_temp(ci + ci_highError)\n",
    "T_high = ColIdx_to_temp(ci + ci_lowError) - T\n",
    "ci_err = [-ci_lowError, ci_highError]\n",
    "T_err = [T_low, T_high]\n",
    "ax.errorbar(x=ci, y=T, xerr=ci_err, yerr= T_err, fmt='.', ecolor = 'red')\n",
    "\n",
    "\n",
    "for i in range(len(ci)):\n",
    "    Ti = ColIdx_to_temp(ci[i])\n",
    "    ax.scatter(ci[i], Ti, label= str(df_new['Star'][i]))\n",
    "               \n",
    "\n",
    "ax.plot(ci_i, T_i)\n",
    "ax.set_title(\"Temperature vs Color Index plot\")\n",
    "ax.set_ylabel(\"Temperature(K)\")\n",
    "ax.set_xlabel(\"Color Index (B-V)\")\n",
    "ax.grid()\n",
    "ax.legend()\n",
    "\n",
    "plt.savefig(r\"/home/mandal-anik/Desktop/Sem-4/Astrolab/Star_Temp/ColIdvsTemp.png\")\n",
    "plt.show()"
   ]
  },
  {
   "cell_type": "code",
   "execution_count": 11,
   "id": "c36a67c6-08c7-43c5-a094-f7076668ab5e",
   "metadata": {},
   "outputs": [
    {
     "name": "stdout",
     "output_type": "stream",
     "text": [
      "IST 22:25:00 Surface Tempurature of Regulus\t\t 10468.63 [-406.12, 441.35] K\n",
      "IST 22:43:00 Surface Tempurature of Denebola\t\t 8047.98 [-383.66, 425.17] K\n",
      "IST 22:45:00 Surface Tempurature of Algaiba \t\t 4074.24 [-80.64, 83.46] K\n",
      "IST 22:51:00 Surface Tempurature of Zosma\t\t 8024.33 [-331.34, 363.8] K\n",
      "IST 23:03:00 Surface Tempurature of Dubhe\t\t 4083.96 [-75.53, 78.0] K\n",
      "IST 23:50:00 Surface Tempurature of Phad\t\t 8821.07 [-656.58, 776.13] K\n",
      "IST 01:03:00 Surface Tempurature of Arcturus\t\t 3718.82 [-57.81, 59.98] K\n",
      "IST 02:19:00 Surface Tempurature of spica\t\t 10268.00 [-732.38, 851.75] K\n",
      "IST 02:28:00 Surface Tempurature of Muphrid\t\t 5527.63 [-0.0, 0.0] K\n",
      "IST 02:32:00 Surface Tempurature of Alkaid\t\t 9061.17 [-588.01, 672.23] K\n"
     ]
    }
   ],
   "source": [
    "# print(\"Starting Date of Experiment:\", Date, '\\n')\n",
    "for i in range(len(T)):\n",
    "    ist = \"IST {}\".format(df_new['Time(IST)'][i])\n",
    "    a = \"Surface Tempurature of {:}\\t\\t\".format(df_new['Star'][i])\n",
    "    err = [float('{:.2f}'.format(-T_low[i])), float('{:.2f}'.format(T_high[i]))]\n",
    "    print(ist, a, '{:.2f}'.format(T[i]), err, 'K')"
   ]
  },
  {
   "cell_type": "markdown",
   "id": "6f438a59-fa31-4aeb-b32a-3f007bd79cd2",
   "metadata": {},
   "source": [
    "### Error Calculation"
   ]
  },
  {
   "cell_type": "code",
   "execution_count": 12,
   "id": "9234c43b-e461-437e-932f-7980e8435c59",
   "metadata": {},
   "outputs": [
    {
     "data": {
      "text/plain": [
       "array([10.27911985,  5.31784369,  8.85370634,  3.27469593,  9.24533636,\n",
       "        5.70739228, 13.3141246 , 54.16072533,  9.38318359, 41.69129811])"
      ]
     },
     "execution_count": 12,
     "metadata": {},
     "output_type": "execute_result"
    }
   ],
   "source": [
    "# Exact median values taken from Google\n",
    "T_exact = [11668, 8500, 4470, 8296, 4500, 9355, 4290, 22400, 6100, 15540]\n",
    "\n",
    "rel_err = abs(T- T_exact)*100/ T_exact \n",
    "rel_err"
   ]
  },
  {
   "cell_type": "code",
   "execution_count": null,
   "id": "46402f5d-8595-4be1-928d-5a1d6ec3ee39",
   "metadata": {},
   "outputs": [],
   "source": []
  },
  {
   "cell_type": "code",
   "execution_count": null,
   "id": "c61bb585-eea0-4993-8ff0-427fdad31942",
   "metadata": {},
   "outputs": [],
   "source": []
  }
 ],
 "metadata": {
  "kernelspec": {
   "display_name": "Python 3 (ipykernel)",
   "language": "python",
   "name": "python3"
  },
  "language_info": {
   "codemirror_mode": {
    "name": "ipython",
    "version": 3
   },
   "file_extension": ".py",
   "mimetype": "text/x-python",
   "name": "python",
   "nbconvert_exporter": "python",
   "pygments_lexer": "ipython3",
   "version": "3.9.13"
  }
 },
 "nbformat": 4,
 "nbformat_minor": 5
}
